{
 "cells": [
  {
   "cell_type": "markdown",
   "metadata": {},
   "source": [
    "Promedio y varianza de una muestra\n",
    "========================\n",
    "\n",
    "Calculemos le promedio y la varianza para varias tamaños muestrales obtenidos usando una distribución normal. Otras distribuciones disponibles [aquí](https://en.wikipedia.org/wiki/List_of_probability_distributions)"
   ]
  },
  {
   "cell_type": "code",
   "execution_count": 8,
   "metadata": {},
   "outputs": [
    {
     "name": "stdout",
     "output_type": "stream",
     "text": [
      "9.99572760208029 3.9612331087331687\n"
     ]
    },
    {
     "data": {
      "image/png": "[encoded data removed]",
      "text/plain": [
       "<Figure size 432x288 with 1 Axes>"
      ]
     },
     "metadata": {
      "needs_background": "light"
     },
     "output_type": "display_data"
    }
   ],
   "source": [
    "import numpy as np\n",
    "from matplotlib import pyplot as plt\n",
    "\n",
    "# Dada la siguiente muestra de 100000 observaciones\n",
    "x=np.random.normal(10,2,100000)\n",
    "\n",
    "# El promedio de la muestra es \n",
    "x_mean = np.mean(x)\n",
    "# La varianza de la muestra es\n",
    "x_var = np.var(x,ddof=1)\n",
    "\n",
    "# Veamos su histograma\n",
    "plt.hist(x,bins=100)\n",
    "# Imprimir los resultados\n",
    "plt.axvline(x=x_mean,color=\"red\",label=\"Mean\")\n",
    "plt.axvline(x=x_mean+np.sqrt(x_var),color=\"orange\",label=\"u+S\")\n",
    "plt.axvline(x=x_mean-np.sqrt(x_var),color=\"orange\",label=\"u-S\")\n",
    "plt.legend()\n",
    "print(x_mean, x_var)\n"
   ]
  },
  {
   "cell_type": "markdown",
   "metadata": {},
   "source": [
    "Distribución normal estándard\n",
    "=======================\n",
    "\n",
    "Dado  $y \\sim N(\\mu,\\sigma^2)$, si definimos \n",
    "\n",
    "$x=\\frac{y-\\mu}{\\sigma^2}$. \n",
    "\n",
    "Entonces $x \\sim N(0,1)$\n",
    "\n",
    "$N(0,1)$ es la distribución normal estándard. Veamos ejemplos de como se puede obtener desde una distribución normal regular."
   ]
  },
  {
   "cell_type": "code",
   "execution_count": null,
   "metadata": {},
   "outputs": [],
   "source": []
  },
  {
   "cell_type": "markdown",
   "metadata": {},
   "source": [
    "Ejercicio 1\n",
    "-------\n",
    "\n",
    "Dada $N(-10,6)$ (una distribución normal con $\\mu=-10$ y $\\sigma^2=6$), haz el histograma de:\n",
    "\n",
    "1. La distribución original, $N(-10,6)$\n",
    "2. La distribución con promedio 0, $N(0,6)$\n",
    "3. La distribución estandard $N(0,1)$"
   ]
  },
  {
   "cell_type": "markdown",
   "metadata": {},
   "source": [
    "Teorema del límite central (repaso)\n",
    "=======================\n",
    "\n",
    "Tomemos 4 muestras, cada una con 100 observaciones, de la distribución exponencial y veamos si la distribución de estos promedios se ve como un distribución normal."
   ]
  },
  {
   "cell_type": "code",
   "execution_count": 10,
   "metadata": {},
   "outputs": [
    {
     "data": {
      "text/plain": [
       "(array([2., 0., 0., 0., 0., 1., 0., 0., 0., 1.]),\n",
       " array([3.99392779, 4.48773828, 4.98154877, 5.47535925, 5.96916974,\n",
       "        6.46298023, 6.95679071, 7.4506012 , 7.94441169, 8.43822218,\n",
       "        8.93203266]),\n",
       " <a list of 10 Patch objects>)"
      ]
     },
     "execution_count": 10,
     "metadata": {},
     "output_type": "execute_result"
    },
    {
     "data": {
      "image/png": "[encoded data removed]",
      "text/plain": [
       "<Figure size 432x288 with 1 Axes>"
      ]
     },
     "metadata": {
      "needs_background": "light"
     },
     "output_type": "display_data"
    }
   ],
   "source": [
    "# Cuatro muestras, cada una con 10 observaciones, obtenidas de la misma distribución exponencial\n",
    "x1=np.random.exponential(5,10)\n",
    "x2=np.random.exponential(5,10)\n",
    "x3=np.random.exponential(5,10)\n",
    "x4=np.random.exponential(5,10)\n",
    "\n",
    "# Cálcular los promedios\n",
    "x_means = [] # en esta lista almacenaremos los distintos promedios\n",
    "\n",
    "x1_mean=np.mean(x1)\n",
    "x_means.append(x1_mean) # agrega el primer elemento a la lista\n",
    "\n",
    "x2_mean=np.mean(x2)\n",
    "x_means.append(x2_mean)  # agrega el segundo elemento a la lista\n",
    "\n",
    "x3_mean=np.mean(x3)\n",
    "x_means.append(x3_mean)  # ya entendiste la idea\n",
    "\n",
    "x4_mean=np.mean(x4)\n",
    "x_means.append(x4_mean) # etc\n",
    "\n",
    "# Hacer el histograma de los promedios\n",
    "plt.hist( [x_means] )"
   ]
  },
  {
   "cell_type": "markdown",
   "metadata": {},
   "source": [
    "No parece una distribución normal.\n",
    "\n",
    "Ejercicio 2\n",
    "------------\n",
    "\n",
    "Aumenta el número de muestras y/o el número de observaciones hasta que se vea como una distribución normal"
   ]
  },
  {
   "cell_type": "code",
   "execution_count": null,
   "metadata": {},
   "outputs": [],
   "source": []
  }
 ],
 "metadata": {
  "kernelspec": {
   "display_name": "Python 3",
   "language": "python",
   "name": "python3"
  },
  "language_info": {
   "codemirror_mode": {
    "name": "ipython",
    "version": 3
   },
   "file_extension": ".py",
   "mimetype": "text/x-python",
   "name": "python",
   "nbconvert_exporter": "python",
   "pygments_lexer": "ipython3",
   "version": "3.7.6"
  }
 },
 "nbformat": 4,
 "nbformat_minor": 4
}
