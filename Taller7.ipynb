{
 "cells": [
  {
   "cell_type": "markdown",
   "metadata": {},
   "source": [
    "Datos de la clase\n",
    "==============\n",
    "\n",
    "Los datos del ejericio vistos en clase:\n",
    "\n",
    "\n",
    "<img src=\"https://raw.githubusercontent.com/mrivas/disenoExperimentos/master/datos.png\" alt=\"Drawing\" style=\"width: 700px;\" />\n",
    "\n",
    "Pueden ser escritos como un matriz en numpy"
   ]
  },
  {
   "cell_type": "code",
   "execution_count": 16,
   "metadata": {},
   "outputs": [],
   "source": [
    "import numpy as np\n",
    "\n",
    "data=np.array([[160,575,542,530,539,570],\n",
    "               [180,565,593,590,579,610],\n",
    "               [200,600,651,610,637,629],\n",
    "               [220,725,700,715,685,710]])"
   ]
  },
  {
   "cell_type": "code",
   "execution_count": 19,
   "metadata": {},
   "outputs": [
    {
     "data": {
      "text/plain": [
       "array([160, 575, 542, 530, 539, 570])"
      ]
     },
     "execution_count": 19,
     "metadata": {},
     "output_type": "execute_result"
    }
   ],
   "source": [
    "# Primera fila\n",
    "data[0,0:6]"
   ]
  },
  {
   "cell_type": "code",
   "execution_count": 18,
   "metadata": {},
   "outputs": [
    {
     "data": {
      "text/plain": [
       "array([575, 565, 600, 725])"
      ]
     },
     "execution_count": 18,
     "metadata": {},
     "output_type": "execute_result"
    }
   ],
   "source": [
    "# Segunda columna\n",
    "data[0:4,1]"
   ]
  },
  {
   "cell_type": "markdown",
   "metadata": {},
   "source": [
    "Gráfico de la distribución F\n",
    "==========================="
   ]
  },
  {
   "cell_type": "code",
   "execution_count": 26,
   "metadata": {},
   "outputs": [
    {
     "data": {
      "text/plain": [
       "(array([1.2838e+04, 1.6215e+04, 1.4455e+04, 1.1718e+04, 9.4360e+03,\n",
       "        7.3680e+03, 5.8680e+03, 4.4990e+03, 3.6400e+03, 2.7670e+03,\n",
       "        2.1670e+03, 1.6620e+03, 1.4080e+03, 1.1520e+03, 8.5600e+02,\n",
       "        6.8000e+02, 5.4400e+02, 4.8200e+02, 3.8600e+02, 3.2500e+02,\n",
       "        2.3100e+02, 1.9800e+02, 2.0500e+02, 1.4000e+02, 1.2100e+02,\n",
       "        9.7000e+01, 6.4000e+01, 5.5000e+01, 5.9000e+01, 4.8000e+01,\n",
       "        3.7000e+01, 3.7000e+01, 2.7000e+01, 2.1000e+01, 2.7000e+01,\n",
       "        2.7000e+01, 2.1000e+01, 1.3000e+01, 1.1000e+01, 1.0000e+01,\n",
       "        8.0000e+00, 1.3000e+01, 4.0000e+00, 9.0000e+00, 5.0000e+00,\n",
       "        5.0000e+00, 8.0000e+00, 2.0000e+00, 3.0000e+00, 3.0000e+00,\n",
       "        6.0000e+00, 2.0000e+00, 5.0000e+00, 1.0000e+00, 1.0000e+00,\n",
       "        1.0000e+00, 0.0000e+00, 2.0000e+00, 0.0000e+00, 1.0000e+00,\n",
       "        0.0000e+00, 0.0000e+00, 1.0000e+00, 0.0000e+00, 0.0000e+00,\n",
       "        2.0000e+00, 0.0000e+00, 0.0000e+00, 0.0000e+00, 0.0000e+00,\n",
       "        0.0000e+00, 0.0000e+00, 0.0000e+00, 1.0000e+00, 0.0000e+00,\n",
       "        0.0000e+00, 0.0000e+00, 0.0000e+00, 0.0000e+00, 0.0000e+00,\n",
       "        0.0000e+00, 0.0000e+00, 0.0000e+00, 0.0000e+00, 0.0000e+00,\n",
       "        0.0000e+00, 0.0000e+00, 0.0000e+00, 0.0000e+00, 0.0000e+00,\n",
       "        1.0000e+00, 0.0000e+00, 0.0000e+00, 0.0000e+00, 0.0000e+00,\n",
       "        0.0000e+00, 0.0000e+00, 0.0000e+00, 0.0000e+00, 1.0000e+00]),\n",
       " array([3.22244828e-04, 2.33901378e-01, 4.67480511e-01, 7.01059645e-01,\n",
       "        9.34638778e-01, 1.16821791e+00, 1.40179704e+00, 1.63537618e+00,\n",
       "        1.86895531e+00, 2.10253444e+00, 2.33611358e+00, 2.56969271e+00,\n",
       "        2.80327184e+00, 3.03685098e+00, 3.27043011e+00, 3.50400924e+00,\n",
       "        3.73758838e+00, 3.97116751e+00, 4.20474664e+00, 4.43832578e+00,\n",
       "        4.67190491e+00, 4.90548404e+00, 5.13906318e+00, 5.37264231e+00,\n",
       "        5.60622144e+00, 5.83980058e+00, 6.07337971e+00, 6.30695884e+00,\n",
       "        6.54053798e+00, 6.77411711e+00, 7.00769624e+00, 7.24127538e+00,\n",
       "        7.47485451e+00, 7.70843364e+00, 7.94201278e+00, 8.17559191e+00,\n",
       "        8.40917104e+00, 8.64275018e+00, 8.87632931e+00, 9.10990844e+00,\n",
       "        9.34348758e+00, 9.57706671e+00, 9.81064584e+00, 1.00442250e+01,\n",
       "        1.02778041e+01, 1.05113832e+01, 1.07449624e+01, 1.09785415e+01,\n",
       "        1.12121206e+01, 1.14456998e+01, 1.16792789e+01, 1.19128580e+01,\n",
       "        1.21464372e+01, 1.23800163e+01, 1.26135954e+01, 1.28471746e+01,\n",
       "        1.30807537e+01, 1.33143328e+01, 1.35479120e+01, 1.37814911e+01,\n",
       "        1.40150702e+01, 1.42486494e+01, 1.44822285e+01, 1.47158076e+01,\n",
       "        1.49493868e+01, 1.51829659e+01, 1.54165450e+01, 1.56501242e+01,\n",
       "        1.58837033e+01, 1.61172824e+01, 1.63508616e+01, 1.65844407e+01,\n",
       "        1.68180198e+01, 1.70515990e+01, 1.72851781e+01, 1.75187572e+01,\n",
       "        1.77523364e+01, 1.79859155e+01, 1.82194946e+01, 1.84530738e+01,\n",
       "        1.86866529e+01, 1.89202320e+01, 1.91538112e+01, 1.93873903e+01,\n",
       "        1.96209694e+01, 1.98545486e+01, 2.00881277e+01, 2.03217068e+01,\n",
       "        2.05552860e+01, 2.07888651e+01, 2.10224442e+01, 2.12560234e+01,\n",
       "        2.14896025e+01, 2.17231816e+01, 2.19567608e+01, 2.21903399e+01,\n",
       "        2.24239190e+01, 2.26574982e+01, 2.28910773e+01, 2.31246564e+01,\n",
       "        2.33582356e+01]),\n",
       " <a list of 100 Patch objects>)"
      ]
     },
     "execution_count": 26,
     "metadata": {},
     "output_type": "execute_result"
    },
    {
     "data": {
      "image/png": "[encoded data removed]",
      "text/plain": [
       "<Figure size 432x288 with 1 Axes>"
      ]
     },
     "metadata": {
      "needs_background": "light"
     },
     "output_type": "display_data"
    }
   ],
   "source": [
    "x=np.random.f(3,16,100000)\n",
    "from matplotlib import pyplot as plt\n",
    "plt.hist(x,bins=100)"
   ]
  },
  {
   "cell_type": "markdown",
   "metadata": {},
   "source": [
    "Ejercicios\n",
    "==========\n",
    "\n",
    "Hacer:\n",
    "\n",
    "1. Los gráficos de caja (boxplots, ver taller 1) de las velocidades de grabación a distintos niveles de potencia.\n",
    "2. Los cáculos para determina $F_0$\n",
    "3. Graficar la distribución $F$ con $\\alpha-1$ y $N-\\alpha$ grados de libertad.  \n",
    "4. Superponer el valor de $F_0$ en la gráfica anterior."
   ]
  }
 ],
 "metadata": {
  "kernelspec": {
   "display_name": "Python 3",
   "language": "python",
   "name": "python3"
  },
  "language_info": {
   "codemirror_mode": {
    "name": "ipython",
    "version": 3
   },
   "file_extension": ".py",
   "mimetype": "text/x-python",
   "name": "python",
   "nbconvert_exporter": "python",
   "pygments_lexer": "ipython3",
   "version": "3.7.6"
  }
 },
 "nbformat": 4,
 "nbformat_minor": 4
}
