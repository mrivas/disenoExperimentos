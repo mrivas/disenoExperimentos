{
 "cells": [
  {
   "cell_type": "markdown",
   "metadata": {
    "slideshow": {
     "slide_type": "slide"
    }
   },
   "source": [
    "Datos de la clase\n",
    "==============\n",
    "\n",
    "Los datos del ejericio vistos en clase:\n",
    "\n",
    "\n",
    "<img src=\"https://raw.githubusercontent.com/mrivas/disenoExperimentos/master/datos.png\" alt=\"Drawing\" style=\"width: 700px;\" />\n",
    "\n",
    "Pueden ser escritos como un matriz en numpy"
   ]
  },
  {
   "cell_type": "code",
   "execution_count": 11,
   "metadata": {
    "slideshow": {
     "slide_type": "slide"
    }
   },
   "outputs": [],
   "source": [
    "import numpy as np\n",
    "\n",
    "data=np.array([[575,542,530,539,570],\n",
    "               [565,593,590,579,610],\n",
    "               [600,651,610,637,629],\n",
    "               [725,700,715,685,710]])"
   ]
  },
  {
   "cell_type": "code",
   "execution_count": 34,
   "metadata": {
    "slideshow": {
     "slide_type": "fragment"
    }
   },
   "outputs": [],
   "source": [
    "# Operaciones útiles\n",
    "a,n = data.shape # Esto es útil para determinar el número de niveles y replicados\n",
    "y_barra   = data.mean() # Útil para calcular el promedio global\n",
    "y_barra_i = data.mean(axis=1) # Útil para calcular el promedio de cada nivel (y_barra_i)"
   ]
  },
  {
   "cell_type": "code",
   "execution_count": 25,
   "metadata": {
    "slideshow": {
     "slide_type": "fragment"
    }
   },
   "outputs": [
    {
     "data": {
      "text/plain": [
       "array([542, 593, 651, 700])"
      ]
     },
     "execution_count": 25,
     "metadata": {},
     "output_type": "execute_result"
    }
   ],
   "source": [
    "# Primera fila\n",
    "data[0,0:5]\n",
    "# Segunda columna\n",
    "data[0:4,1]"
   ]
  },
  {
   "cell_type": "code",
   "execution_count": null,
   "metadata": {
    "slideshow": {
     "slide_type": "slide"
    }
   },
   "outputs": [],
   "source": []
  },
  {
   "cell_type": "markdown",
   "metadata": {
    "slideshow": {
     "slide_type": "slide"
    }
   },
   "source": [
    "Gráfico de la distribución F\n",
    "==========================="
   ]
  },
  {
   "cell_type": "code",
   "execution_count": 40,
   "metadata": {
    "slideshow": {
     "slide_type": "fragment"
    }
   },
   "outputs": [
    {
     "data": {
      "image/png": "[encoded data removed]",
      "text/plain": [
       "<Figure size 432x288 with 1 Axes>"
      ]
     },
     "metadata": {
      "needs_background": "light"
     },
     "output_type": "display_data"
    }
   ],
   "source": [
    "x=np.random.f(3,16,100000)\n",
    "from matplotlib import pyplot as plt\n",
    "plt.hist(x,bins=100)\n",
    "plt.show()"
   ]
  },
  {
   "cell_type": "markdown",
   "metadata": {
    "slideshow": {
     "slide_type": "slide"
    }
   },
   "source": [
    "Ejercicios\n",
    "==========\n",
    "\n",
    "Hacer:\n",
    "\n",
    "1. Los gráficos de caja (boxplots, ver taller 1) de las velocidades de grabación a distintos niveles de potencia.\n",
    "2. Los cálculos para determina $F_0$\n",
    "3. Graficar la distribución $F$ con $\\alpha-1$ y $N-\\alpha$ grados de libertad.  \n",
    "4. Superponer el valor de $F_0$ en la gráfica anterior."
   ]
  },
  {
   "cell_type": "code",
   "execution_count": 32,
   "metadata": {
    "slideshow": {
     "slide_type": "slide"
    }
   },
   "outputs": [
    {
     "data": {
      "image/png": "[encoded data removed]",
      "text/plain": [
       "<Figure size 432x288 with 1 Axes>"
      ]
     },
     "metadata": {
      "needs_background": "light"
     },
     "output_type": "display_data"
    }
   ],
   "source": [
    "#Parte 1: Grafico de caja\n",
    "plt.boxplot(np.transpose(data))\n",
    "plt.show()"
   ]
  },
  {
   "cell_type": "code",
   "execution_count": 39,
   "metadata": {
    "slideshow": {
     "slide_type": "slide"
    }
   },
   "outputs": [
    {
     "name": "stdout",
     "output_type": "stream",
     "text": [
      "5339.199999999999 66870.54999999997\n",
      "333.69999999999993 22290.183333333323\n",
      "66.79707321945858\n"
     ]
    }
   ],
   "source": [
    "# Parte 2: Hacer cálculos para calcular F0\n",
    "a,n = data.shape # Esto es útil para determinar el número de niveles y replicados\n",
    "y_barra   = data.mean() # Útil para calcular el promedio global\n",
    "y_barra_i = data.mean(axis=1) # Útil para calcular el promedio de cada nivel (y_barra_i)\n",
    "\n",
    "SSe,SStrat = 0,0\n",
    "for i in range(a): # va entre 1(0) y a(a-1)\n",
    "    for j in range(n): # va entre 1 (0) y n (n-1)\n",
    "        SSe    += np.power( data[i,j] - y_barra_i[i]  ,2)\n",
    "        SStrat += np.power( y_barra_i[i] - y_barra ,2)\n",
    "print(SSe,SStrat)\n",
    "MSe    = SSe/(n*a-a) # Estimador de la varianza dentro de los tratamientos\n",
    "MStrat = SStrat/(a-1)# Estimador de la varinza entre los tratamientos\n",
    "print(MSe,MStrat)\n",
    "F0 = MStrat/MSe\n",
    "print(F0)"
   ]
  },
  {
   "cell_type": "code",
   "execution_count": 46,
   "metadata": {
    "slideshow": {
     "slide_type": "slide"
    }
   },
   "outputs": [
    {
     "data": {
      "image/png": "[encoded data removed]",
      "text/plain": [
       "<Figure size 432x288 with 1 Axes>"
      ]
     },
     "metadata": {
      "needs_background": "light"
     },
     "output_type": "display_data"
    }
   ],
   "source": [
    "# Parte 3\n",
    "x=np.random.f(a-1,n*a-a,100000)\n",
    "plt.hist(x,bins=100)\n",
    "# Parte 4\n",
    "plt.axvline(F0,color=\"red\")\n",
    "plt.show()"
   ]
  }
 ],
 "metadata": {
  "celltoolbar": "Slideshow",
  "kernelspec": {
   "display_name": "Python 3",
   "language": "python",
   "name": "python3"
  },
  "language_info": {
   "codemirror_mode": {
    "name": "ipython",
    "version": 3
   },
   "file_extension": ".py",
   "mimetype": "text/x-python",
   "name": "python",
   "nbconvert_exporter": "python",
   "pygments_lexer": "ipython3",
   "version": "3.8.10"
  }
 },
 "nbformat": 4,
 "nbformat_minor": 4
}
