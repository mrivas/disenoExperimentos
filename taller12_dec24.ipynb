{
 "cells": [
  {
   "cell_type": "markdown",
   "metadata": {},
   "source": [
    "Ejercicio 1\n",
    "=========\n",
    "\n",
    "Dados los siguientes datos:\n",
    "\n",
    "<img src=\"https://raw.githubusercontent.com/mrivas/disenoExperimentos/master/3factorsExample.png\" alt=\"Drawing\" style=\"width: 700px;\" />\n",
    "\n",
    "Escribir una función para calcular la suma de los cuadrados de $SS_A$,$SS_B$, $SS_C$, $SS_{AB}$, $SS_{AC}$ ..., $SS_E$. En este caso el factor $A$ corresponde al porcentaje de carbonación, el factor $B$ a la presión, y el factor $C$ a la velocidad de la linea."
   ]
  },
  {
   "cell_type": "code",
   "execution_count": 46,
   "metadata": {},
   "outputs": [
    {
     "name": "stdout",
     "output_type": "stream",
     "text": [
      "252.75\n"
     ]
    }
   ],
   "source": [
    "# Esto es mucho mejor. Graciassss!!!\n",
    "\n",
    "import numpy as np\n",
    "data=np.array([ [ [[-3,-1],[-1,0]],[[-1,0],[ 1, 1]] ],\n",
    "                [ [[ 0, 1],[ 2,1]],[[ 2,3],[ 6, 5]] ],\n",
    "                [ [[ 5, 4],[ 7,6]],[[ 7,9],[10,11]]] ])  \n",
    "def getSS(data):\n",
    "    # Obtener indices\n",
    "    a,b,c,n = data.shape\n",
    "    \n",
    "    y     = data.sum()           # suma general\n",
    "    \n",
    "    y_ijk = data.sum(axis=3)     # suma replicados en celda i,j,k\n",
    "    y_jk  = y_ijk.sum(axis=0)    # suma en i\n",
    "    y_ik  = y_ijk.sum(axis=1)    # suma en j\n",
    "    y_ij  = y_ijk.sum(axis=2)    # suma en k  \n",
    "    \n",
    "    y_i   = y_ij.sum(axis=1)     # suma  en j\n",
    "    y_j   = y_ij.sum(axis=0)     # suma  en i\n",
    "    y_k   = y_ik.sum(axis=0)     # suma en i\n",
    "    \n",
    "    # Suma de los cuadrados\n",
    "    \n",
    "    SSA =  1/(b*c*n) * np.power(y_i,2).sum() - 1/(a*b*c*n)*np.power(y,2)\n",
    "    \n",
    "\n",
    "    return(SSA)#,SSB,SSAB,SSE,SST)\n",
    "\n",
    "#SSA,SSB,SSAB,SSE,SST=getSS(data)\n",
    "SSA=getSS(data)\n",
    "print(SSA)"
   ]
  },
  {
   "cell_type": "markdown",
   "metadata": {},
   "source": [
    "Ejercicio 2\n",
    "========\n",
    "\n",
    "Escribir una función para calcular:\n",
    "1. $MS_A$,$MS_B$, $MS_{AB}$, y $MS_E$,\n",
    "2. los $F_0$ para $MS_A$,$MS_B$ y $MS_{AB}$, y\n",
    "3. la significancia estadistica de que $MS_A$, $MS_B$, y $MS_{AB}$ son diferentes de $MS_E$."
   ]
  },
  {
   "cell_type": "code",
   "execution_count": 83,
   "metadata": {},
   "outputs": [],
   "source": [
    "# Usar como base el ANOVA dos factores\n",
    "from scipy import stats\n",
    "\n",
    "def getMS(data):\n",
    "    a,b,n = data.shape\n",
    "    SSA,SSB,SSAB,SSE,SST=getSS(data)\n",
    "    \n",
    "    MSA =SSA/(a-1)\n",
    "    MSB =SSB/(b-1)\n",
    "    MSAB=SSAB/(a-1)/(b-1)\n",
    "    MSE =SSE/(a*b*(n-1))\n",
    "    \n",
    "    gl_num=[(a-1),(b-1),(a-1)*(b-1)]\n",
    "    for i,numerator in enumerate([MSA,MSB,MSAB]):\n",
    "        F0=numerator/MSE\n",
    "        P_value=1-stats.f.cdf(F0,gl_num[i],a*b*(n-1))\n",
    "        print(F0,P_value)"
   ]
  },
  {
   "cell_type": "code",
   "execution_count": 84,
   "metadata": {},
   "outputs": [
    {
     "name": "stdout",
     "output_type": "stream",
     "text": [
      "7.91137226938003 0.0019760825909075352\n",
      "28.96769194904215 1.9085958968823036e-07\n",
      "3.5595354003537967 0.018611168188941818\n"
     ]
    }
   ],
   "source": []
  },
  {
   "cell_type": "code",
   "execution_count": null,
   "metadata": {},
   "outputs": [],
   "source": []
  }
 ],
 "metadata": {
  "kernelspec": {
   "display_name": "Python 3",
   "language": "python",
   "name": "python3"
  },
  "language_info": {
   "codemirror_mode": {
    "name": "ipython",
    "version": 3
   },
   "file_extension": ".py",
   "mimetype": "text/x-python",
   "name": "python",
   "nbconvert_exporter": "python",
   "pygments_lexer": "ipython3",
   "version": "3.7.6"
  }
 },
 "nbformat": 4,
 "nbformat_minor": 4
}
