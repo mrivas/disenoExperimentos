{
 "cells": [
  {
   "cell_type": "markdown",
   "metadata": {},
   "source": [
    "Ejercicio 1\n",
    "=========\n",
    "\n",
    "Dados los siguientes datos:\n",
    "\n",
    "<img src=\"https://raw.githubusercontent.com/mrivas/disenoExperimentos/master/3factorsExample.png\" alt=\"Drawing\" style=\"width: 700px;\" />\n",
    "\n",
    "Escribir una función para calcular la suma de los cuadrados de $SS_A$,$SS_B$, $SS_C$, $SS_{AB}$, $SS_{AC}$ ..., $SS_E$. En este caso el factor $A$ corresponde al porcentaje de carbonación, el factor $B$ a la presión, y el factor $C$ a la velocidad de la linea."
   ]
  },
  {
   "cell_type": "code",
   "execution_count": 56,
   "metadata": {},
   "outputs": [
    {
     "name": "stdout",
     "output_type": "stream",
     "text": [
      "[[-5  1]\n",
      " [ 4 16]\n",
      " [22 37]]\n"
     ]
    }
   ],
   "source": [
    "import numpy as np\n",
    "data=np.array([ [ [[-3,-1],[-1,0]],[[-1,0],[ 1, 1]] ],\n",
    "                [ [[ 0, 1],[ 2,1]],[[ 2,3],[ 6, 5]] ],\n",
    "                [ [[ 5, 4],[ 7,6]],[[ 7,9],[10,11]]] ])  \n",
    "a,b,c,n = data.shape\n",
    "\n",
    "y     = data.sum()           # suma general\n",
    "\n",
    "y_ijk = data.sum(axis=3)     # suma replicados en celda i,j,k\n",
    "y_jk  = y_ijk.sum(axis=0)    # suma en i\n",
    "y_ik  = y_ijk.sum(axis=1)    # suma en j\n",
    "y_ij  = y_ijk.sum(axis=2)    # suma en k  \n",
    "\n",
    "y_i   = y_ij.sum(axis=1)     # suma  en j\n",
    "y_j   = y_ij.sum(axis=0)     # suma  en i\n",
    "y_k   = y_ik.sum(axis=0)     # suma en i\n",
    "\n",
    "print(y_ij)"
   ]
  },
  {
   "cell_type": "code",
   "execution_count": 63,
   "metadata": {},
   "outputs": [
    {
     "name": "stdout",
     "output_type": "stream",
     "text": [
      "252.75 45.375 22.04166666666663 5.25 0.5833333333333712 1.0416666666666856 1.0833333333333144 8.5\n"
     ]
    }
   ],
   "source": [
    "# Esto es mucho mejor. Graciassss!!!\n",
    "\n",
    "import numpy as np\n",
    "data=np.array([ [ [[-3,-1],[-1,0]],[[-1,0],[ 1, 1]] ],\n",
    "                [ [[ 0, 1],[ 2,1]],[[ 2,3],[ 6, 5]] ],\n",
    "                [ [[ 5, 4],[ 7,6]],[[ 7,9],[10,11]]] ])  \n",
    "def getSS(data):\n",
    "    # Obtener indices\n",
    "    a,b,c,n = data.shape\n",
    "    \n",
    "    y     = data.sum()           # suma general\n",
    "    \n",
    "    y_ijk = data.sum(axis=3)     # suma replicados en celda i,j,k\n",
    "    y_jk  = y_ijk.sum(axis=0)    # suma en i\n",
    "    y_ik  = y_ijk.sum(axis=1)    # suma en j\n",
    "    y_ij  = y_ijk.sum(axis=2)    # suma en k  \n",
    "    \n",
    "    y_i   = y_ij.sum(axis=1)     # suma  en j\n",
    "    y_j   = y_ij.sum(axis=0)     # suma  en i\n",
    "    y_k   = y_ik.sum(axis=0)     # suma en i\n",
    "    \n",
    "    # Suma de los cuadrados\n",
    "    \n",
    "    SSA =  1/(b*c*n) * np.power(y_i,2).sum() - 1/(a*b*c*n)*np.power(y,2)\n",
    "    SSB =  1/(a*c*n) * np.power(y_j,2).sum() - 1/(a*b*c*n)*np.power(y,2)\n",
    "    SSC =  1/(a*b*n) * np.power(y_k,2).sum() - 1/(a*b*c*n)*np.power(y,2)\n",
    "    \n",
    "    SSAB =  1/(c*n) * np.power(y_ij,2).sum() - 1/(a*b*c*n)*np.power(y,2) -SSA-SSB\n",
    "    SSAC =  1/(b*n) * np.power(y_ik,2).sum() - 1/(a*b*c*n)*np.power(y,2) -SSA-SSC\n",
    "    SSBC =  1/(a*n) * np.power(y_jk,2).sum() - 1/(a*b*c*n)*np.power(y,2) -SSB-SSC   \n",
    "    \n",
    "    SSABC = 1/n *np.power(y_ijk,2).sum() - 1/(a*b*c*n)*np.power(y,2) -SSA-SSB-SSC -SSAB-SSBC-SSAC \n",
    "    \n",
    "    SST = np.power(data,2).sum() - 1/(a*b*c*n)*np.power(y,2)\n",
    "    SSE = SST - SSA-SSB-SSC-SSAB-SSAC-SSBC-SSABC\n",
    "    \n",
    "    return(SSA,SSB,SSC,SSAB,SSAC,SSBC,SSABC,SSE)\n",
    "\n",
    "#SSA,SSB,SSAB,SSE,SST=getSS(data)\n",
    "SSA,SSB,SSC,SSAB,SSAC,SSBC,SSABC,SSE=getSS(data)\n",
    "print(SSA,SSB,SSC,SSAB,SSAC,SSBC,SSABC,SSE)"
   ]
  },
  {
   "cell_type": "markdown",
   "metadata": {},
   "source": [
    "Ejercicio 2\n",
    "========\n",
    "\n",
    "Escribir una función para calcular:\n",
    "1. $MS_A$,$MS_B$, $MS_{AB}$, y $MS_E$,\n",
    "2. los $F_0$ para $MS_A$,$MS_B$ y $MS_{AB}$, y\n",
    "3. la significancia estadistica de que $MS_A$, $MS_B$, y $MS_{AB}$ son diferentes de $MS_E$."
   ]
  },
  {
   "cell_type": "code",
   "execution_count": 68,
   "metadata": {},
   "outputs": [],
   "source": [
    "# Usar como base el ANOVA dos factores\n",
    "from scipy import stats\n",
    "\n",
    "def getMS(data):\n",
    "    a,b,c,n = data.shape\n",
    "    SSA,SSB,SSC,SSAB,SSAC,SSBC,SSABC,SSE=getSS(data)\n",
    "\n",
    "    MSE =SSE/(a*b*c*(n-1))\n",
    "    \n",
    "    gl_num=[(a-1),(b-1),(c-1),(a-1)*(b-1),(a-1)*(c-1),(b-1)*(c-1),(a-1)*(b-1)*(c-1)]\n",
    "    for i,numerator in enumerate([SSA,SSB,SSC,SSAB,SSAC,SSBC,SSABC]):\n",
    "        MSX = numerator/gl_num[i]\n",
    "        F0=MSX/MSE\n",
    "        P_value=1-stats.f.cdf(F0,gl_num[i],a*b*c*(n-1))\n",
    "        print(F0,P_value)"
   ]
  },
  {
   "cell_type": "code",
   "execution_count": 69,
   "metadata": {},
   "outputs": [
    {
     "name": "stdout",
     "output_type": "stream",
     "text": [
      "178.41176470588235 1.1862487658831355e-09\n",
      "64.05882352941177 3.7422568632816677e-06\n",
      "31.117647058823476 0.00012021739910694773\n",
      "3.705882352941176 0.0558081164712928\n",
      "0.4117647058823797 0.6714938553663594\n",
      "1.4705882352941444 0.24858668974961684\n",
      "0.7647058823529278 0.486871091326353\n"
     ]
    }
   ],
   "source": [
    "getMS(data)"
   ]
  },
  {
   "cell_type": "code",
   "execution_count": null,
   "metadata": {},
   "outputs": [],
   "source": []
  }
 ],
 "metadata": {
  "kernelspec": {
   "display_name": "Python 3",
   "language": "python",
   "name": "python3"
  },
  "language_info": {
   "codemirror_mode": {
    "name": "ipython",
    "version": 3
   },
   "file_extension": ".py",
   "mimetype": "text/x-python",
   "name": "python",
   "nbconvert_exporter": "python",
   "pygments_lexer": "ipython3",
   "version": "3.7.6"
  }
 },
 "nbformat": 4,
 "nbformat_minor": 4
}
