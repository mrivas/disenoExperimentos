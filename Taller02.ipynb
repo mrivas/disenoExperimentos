{
 "cells": [
  {
   "cell_type": "markdown",
   "metadata": {
    "slideshow": {
     "slide_type": "slide"
    }
   },
   "source": [
    "Operaciones aritméticas simples\n",
    "======"
   ]
  },
  {
   "cell_type": "code",
   "execution_count": null,
   "metadata": {
    "slideshow": {
     "slide_type": "fragment"
    }
   },
   "outputs": [],
   "source": [
    "x = 10\n",
    "y = 2\n",
    "x + y\n",
    "x*y\n",
    "x/y\n",
    "print(x+y)"
   ]
  },
  {
   "cell_type": "markdown",
   "metadata": {
    "slideshow": {
     "slide_type": "slide"
    }
   },
   "source": [
    "Funciones más complejas\n",
    "=========\n",
    "\n",
    "Para esto usaremos la libría numpy"
   ]
  },
  {
   "cell_type": "code",
   "execution_count": null,
   "metadata": {
    "slideshow": {
     "slide_type": "fragment"
    }
   },
   "outputs": [],
   "source": [
    "# Carga numpy en memoria y la nombra np\n",
    "import numpy as np\n",
    "\n",
    "# Calcular la raiz cuadrada (square root: sqrt)\n",
    "x = 4\n",
    "print(np.sqrt(x))"
   ]
  },
  {
   "cell_type": "code",
   "execution_count": null,
   "metadata": {
    "slideshow": {
     "slide_type": "slide"
    }
   },
   "outputs": [],
   "source": [
    "# Calcular 2 elevado a 5\n",
    "x = 2\n",
    "np.power(x,6)"
   ]
  },
  {
   "cell_type": "code",
   "execution_count": null,
   "metadata": {
    "slideshow": {
     "slide_type": "fragment"
    }
   },
   "outputs": [],
   "source": [
    "# Calcular logaritmo de 100 en base 10\n",
    "x = 100\n",
    "np.log10(x)"
   ]
  },
  {
   "cell_type": "code",
   "execution_count": null,
   "metadata": {
    "slideshow": {
     "slide_type": "fragment"
    }
   },
   "outputs": [],
   "source": [
    "# Calcular logaritmo de 100 en base e\n",
    "x = 100\n",
    "np.log(x)"
   ]
  },
  {
   "cell_type": "markdown",
   "metadata": {
    "slideshow": {
     "slide_type": "slide"
    }
   },
   "source": [
    "Creación de secuencias\n",
    "==================="
   ]
  },
  {
   "cell_type": "code",
   "execution_count": null,
   "metadata": {
    "slideshow": {
     "slide_type": "fragment"
    }
   },
   "outputs": [],
   "source": [
    "# Creación manual de secuencias\n",
    "x = np.array([0,1,2,3,4,5,6,7,8,9,20]) # crea una secuencia de 0 a 10\n",
    "print( x[8] )\n",
    "\n",
    "y = np.array([20,6,8,13]) # crea una secuencia de 0 a 10\n",
    "print( y )"
   ]
  },
  {
   "cell_type": "code",
   "execution_count": null,
   "metadata": {
    "slideshow": {
     "slide_type": "slide"
    }
   },
   "outputs": [],
   "source": [
    "# Creación automatica de secuencias\n",
    "x=np.linspace(-10,30,40) # crea una secuencia entre 0 y 10 con 100 elementos igualmente spaceados\n",
    "print(x)\n",
    "print( len(x) )"
   ]
  },
  {
   "cell_type": "code",
   "execution_count": null,
   "metadata": {
    "slideshow": {
     "slide_type": "slide"
    }
   },
   "outputs": [],
   "source": [
    "# se pueden aplicar las funciones anteriores a vectores, por ejemplo:\n",
    "y=np.linspace(-10,10,20) # crea una secuencia entre -10 y 10 con 100 elementos igualmente spaceados\n",
    "\n",
    "np.sin(y)"
   ]
  },
  {
   "cell_type": "markdown",
   "metadata": {
    "slideshow": {
     "slide_type": "slide"
    }
   },
   "source": [
    "Ejercicios\n",
    "----------\n",
    "\n",
    "Cálcula: \n",
    "\n",
    "1. log(x) en el rango x=[0.1,30] \n",
    "2. cos(x) en el rango x=[-10,10]\n",
    "3. x^3 en el rango x=[-5,5] # np.power(x,3)\n",
    "4. x^0.5 en el rango x=[0.1,20]"
   ]
  },
  {
   "cell_type": "code",
   "execution_count": null,
   "metadata": {},
   "outputs": [],
   "source": [
    "x=np.linspace(0.1,20,50)\n",
    "y1=np.sqrt(x)\n",
    "y2=np.power(x,0.5)\n"
   ]
  },
  {
   "cell_type": "code",
   "execution_count": null,
   "metadata": {
    "slideshow": {
     "slide_type": "slide"
    }
   },
   "outputs": [],
   "source": [
    "x =np.linspace(0.1,30,5)\n",
    "print(x)\n",
    "print(np.log(x))"
   ]
  },
  {
   "cell_type": "markdown",
   "metadata": {
    "slideshow": {
     "slide_type": "slide"
    }
   },
   "source": [
    "Representaciones gráficas\n",
    "========================\n",
    "\n",
    "Para esto usaremos la librería matplotlib, en particular pyplot "
   ]
  },
  {
   "cell_type": "code",
   "execution_count": null,
   "metadata": {
    "slideshow": {
     "slide_type": "fragment"
    }
   },
   "outputs": [],
   "source": [
    "# Cargar desde matplotlib la librería pyplot, llamandola plt\n",
    "from matplotlib import pyplot as plt"
   ]
  },
  {
   "cell_type": "code",
   "execution_count": null,
   "metadata": {
    "slideshow": {
     "slide_type": "slide"
    }
   },
   "outputs": [],
   "source": [
    "# Grafica dos secuencias hechas a mano\n",
    "x=[1,2,3,4,5,6]\n",
    "y=[1,2,3,4,5,6]\n",
    "plt.plot(x,y)"
   ]
  },
  {
   "cell_type": "code",
   "execution_count": null,
   "metadata": {
    "slideshow": {
     "slide_type": "slide"
    }
   },
   "outputs": [],
   "source": [
    "# Grafica dos secuencias hechas automaticamente\n",
    "x=np.linspace(-5,30,1000)\n",
    "y=np.sin(x)\n",
    "plt.plot(x,y)"
   ]
  },
  {
   "cell_type": "markdown",
   "metadata": {
    "slideshow": {
     "slide_type": "slide"
    }
   },
   "source": [
    "Ejercicios\n",
    "----------\n",
    "\n",
    "Realiza el gráfico de: \n",
    "\n",
    "1. log(x) en el rango x=[0.1,30] \n",
    "2. cos(x) en el rango x=[-10,10]\n",
    "3. x^3 en el rango x=[-5,5]\n",
    "4. x^0.5 en el rango x=[0.1,20]"
   ]
  },
  {
   "cell_type": "code",
   "execution_count": null,
   "metadata": {},
   "outputs": [],
   "source": [
    "x=np.linspace(0.1,20,100)\n",
    "y=np.power(x,0.5)\n",
    "plt.plot(x,y)"
   ]
  },
  {
   "cell_type": "markdown",
   "metadata": {
    "slideshow": {
     "slide_type": "slide"
    }
   },
   "source": [
    "Representaciones de variabilidad\n",
    "============="
   ]
  },
  {
   "cell_type": "markdown",
   "metadata": {
    "slideshow": {
     "slide_type": "slide"
    }
   },
   "source": [
    "Boxplot\n",
    "------"
   ]
  },
  {
   "cell_type": "code",
   "execution_count": null,
   "metadata": {
    "slideshow": {
     "slide_type": "fragment"
    }
   },
   "outputs": [],
   "source": [
    "# Usemos como referencia los datos vistos en clase\n",
    "# Cemento modificado (y1), y no modificado (y2)\n",
    "\n",
    "y1=np.array([\n",
    "16.85,\n",
    "16.40,\n",
    "17.21,\n",
    "16.35,\n",
    "16.52,\n",
    "17.04,\n",
    "16.96,\n",
    "17.15,\n",
    "16.59,\n",
    "16.57])\n",
    "y2=np.array([\n",
    "16.62,\n",
    "16.75,\n",
    "17.37,\n",
    "17.12,\n",
    "16.98,\n",
    "16.87,\n",
    "17.34,\n",
    "17.02,\n",
    "17.08,\n",
    "17.27])\n",
    "print( y1.mean(), y2.mean() )"
   ]
  },
  {
   "cell_type": "code",
   "execution_count": null,
   "metadata": {
    "slideshow": {
     "slide_type": "slide"
    }
   },
   "outputs": [],
   "source": [
    "# Gráfico de caja (boxplot) de y1\n",
    "plt.boxplot(y1)\n",
    "plt.show()"
   ]
  },
  {
   "cell_type": "code",
   "execution_count": null,
   "metadata": {
    "slideshow": {
     "slide_type": "slide"
    }
   },
   "outputs": [],
   "source": [
    "# Boxplot de y1 e y2\n",
    "plt.boxplot([y1,y2])\n",
    "plt.show()"
   ]
  },
  {
   "cell_type": "code",
   "execution_count": null,
   "metadata": {
    "slideshow": {
     "slide_type": "slide"
    }
   },
   "outputs": [],
   "source": [
    "# Igual que el gráfico anterior pero con nombres en los marcadores del eje x\n",
    "plt.boxplot([y1,y2])\n",
    "plt.xticks([1,2],[\"Modificado\",\"No modificado\"])\n",
    "plt.show()"
   ]
  },
  {
   "cell_type": "code",
   "execution_count": null,
   "metadata": {
    "slideshow": {
     "slide_type": "slide"
    }
   },
   "outputs": [],
   "source": [
    "# Quantiles\n",
    "np.quantile(y1,0.05) #quantile del 5% \n",
    "np.quantile(y1,0.5) #quantile del 50% \n",
    "np.quantile(y1,0.95) #quantile del 95% "
   ]
  },
  {
   "cell_type": "markdown",
   "metadata": {
    "slideshow": {
     "slide_type": "slide"
    }
   },
   "source": [
    "Histogramas\n",
    "--------"
   ]
  },
  {
   "cell_type": "code",
   "execution_count": null,
   "metadata": {
    "slideshow": {
     "slide_type": "fragment"
    }
   },
   "outputs": [],
   "source": [
    "plt.hist(y1)\n",
    "plt.show()"
   ]
  },
  {
   "cell_type": "code",
   "execution_count": null,
   "metadata": {
    "slideshow": {
     "slide_type": "slide"
    }
   },
   "outputs": [],
   "source": [
    "# Histograma con 50 segmentos (bins)\n",
    "plt.hist(y1)\n",
    "plt.show()\n",
    "plt.hist(y1,bins=50)\n",
    "plt.show()"
   ]
  },
  {
   "cell_type": "markdown",
   "metadata": {},
   "source": [
    "# Distribuciones de probabilidad"
   ]
  },
  {
   "cell_type": "markdown",
   "metadata": {},
   "source": [
    "## Lanzar una moneda\n",
    "\n",
    "[Distribución binomial](https://en.wikipedia.org/wiki/Binomial_distribution)"
   ]
  },
  {
   "cell_type": "code",
   "execution_count": null,
   "metadata": {},
   "outputs": [],
   "source": [
    "import numpy as np\n",
    "np.random.binomial(1,0.5) # lanzar 1 moneda con probabilidad 0.5 de caer cara"
   ]
  },
  {
   "cell_type": "code",
   "execution_count": null,
   "metadata": {},
   "outputs": [],
   "source": [
    "np.random.binomial(1,0.7) # lanzar 1 moneda con probabilidad 0.6 de caer cara"
   ]
  },
  {
   "cell_type": "markdown",
   "metadata": {},
   "source": [
    "## Lanzar muchas monedas\n"
   ]
  },
  {
   "cell_type": "code",
   "execution_count": null,
   "metadata": {},
   "outputs": [],
   "source": [
    "from IPython.display import YouTubeVideo\n",
    "\n",
    "YouTubeVideo('EvHiee7gs9Y', width=500, height=500)"
   ]
  },
  {
   "cell_type": "markdown",
   "metadata": {},
   "source": [
    "## Lanzar infinitas monedas\n",
    "\n",
    "[Distribución normal](https://en.wikipedia.org/wiki/Normal_distribution)"
   ]
  },
  {
   "cell_type": "code",
   "execution_count": null,
   "metadata": {
    "slideshow": {
     "slide_type": "slide"
    }
   },
   "outputs": [],
   "source": [
    "# Hagamos una secuencia de datos más interesante\n",
    "# Simulemos datos de una variable aleatoria continua\n",
    "# 1000 números generados usando una distribución normal \n",
    "#con valor esperado de 30, y desviación estandar de 3\n",
    "x = np.random.normal(30,6,1000) \n",
    "plt.hist(x,bins=30)\n",
    "x = np.random.normal(30,3,1000) \n",
    "plt.hist(x,bins=30)\n",
    "plt.show()"
   ]
  },
  {
   "cell_type": "code",
   "execution_count": null,
   "metadata": {
    "slideshow": {
     "slide_type": "slide"
    }
   },
   "outputs": [],
   "source": [
    "# Histograma de x\n",
    "plt.hist(x,bins=40)"
   ]
  },
  {
   "cell_type": "code",
   "execution_count": null,
   "metadata": {
    "slideshow": {
     "slide_type": "slide"
    }
   },
   "outputs": [],
   "source": [
    "# Histograma de x usnado densidad en el eje y\n",
    "plt.hist(x,bins=40)\n",
    "plt.show()\n",
    "plt.hist(x,bins=40,density=True)\n",
    "plt.show()"
   ]
  },
  {
   "cell_type": "code",
   "execution_count": null,
   "metadata": {
    "slideshow": {
     "slide_type": "slide"
    }
   },
   "outputs": [],
   "source": [
    "# Simulemos datos de una variable aleatoria continua\n",
    "\n",
    "# 1000 números generados usando una distribución de Poisson \n",
    "#con valor esperado de 30, y varianza de 30\n",
    "x=np.random.poisson(30,30000)\n",
    "print( len(x) )\n",
    "plt.hist(x,bins=100)\n",
    "plt.show()"
   ]
  },
  {
   "cell_type": "code",
   "execution_count": null,
   "metadata": {
    "slideshow": {
     "slide_type": "fragment"
    }
   },
   "outputs": [],
   "source": [
    "len(x)\n",
    "print( np.var(x,ddof=1),np.mean(x))"
   ]
  },
  {
   "cell_type": "code",
   "execution_count": null,
   "metadata": {
    "slideshow": {
     "slide_type": "slide"
    }
   },
   "outputs": [],
   "source": [
    "# Histograma de la distribución de Poisson\n",
    "plt.hist(x,bins=50,density=True)"
   ]
  },
  {
   "cell_type": "markdown",
   "metadata": {
    "slideshow": {
     "slide_type": "slide"
    }
   },
   "source": [
    "Ejercicios\n",
    "---------\n",
    "\n",
    "Realizar histogramas de una secuencia de 3000 números simulados de acuerdo a:\n",
    "\n",
    "1. Una distribución normal con valor esperado de -10 y varianza de 5.\n",
    "2. Una distribución normal con valor esperado de 15 y varianza de 15.\n",
    "3. Una distribución de Poisson con valor esperado de 10.\n",
    "4. Una distribución de Poisson con valor esperado de 80."
   ]
  },
  {
   "cell_type": "code",
   "execution_count": null,
   "metadata": {},
   "outputs": [],
   "source": []
  },
  {
   "cell_type": "code",
   "execution_count": null,
   "metadata": {},
   "outputs": [],
   "source": [
    "np.random.binomial(1,0.5)"
   ]
  },
  {
   "cell_type": "code",
   "execution_count": null,
   "metadata": {},
   "outputs": [],
   "source": []
  },
  {
   "cell_type": "code",
   "execution_count": null,
   "metadata": {},
   "outputs": [],
   "source": []
  }
 ],
 "metadata": {
  "celltoolbar": "Slideshow",
  "kernelspec": {
   "display_name": "Python 3",
   "language": "python",
   "name": "python3"
  },
  "language_info": {
   "codemirror_mode": {
    "name": "ipython",
    "version": 3
   },
   "file_extension": ".py",
   "mimetype": "text/x-python",
   "name": "python",
   "nbconvert_exporter": "python",
   "pygments_lexer": "ipython3",
   "version": "3.8.10"
  }
 },
 "nbformat": 4,
 "nbformat_minor": 4
}
