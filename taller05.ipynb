{
 "cells": [
  {
   "cell_type": "markdown",
   "metadata": {
    "slideshow": {
     "slide_type": "slide"
    }
   },
   "source": [
    "## Ejemplo 1: Muriel tiene super percepción\n",
    "\n",
    "<img src=\"https://raw.githubusercontent.com/mrivas/disenoExperimentos/master/h1.png\" alt=\"Drawing\" style=\"width: 700px;\" />"
   ]
  },
  {
   "cell_type": "markdown",
   "metadata": {
    "slideshow": {
     "slide_type": "slide"
    }
   },
   "source": [
    "### Definamos la función para calular el número de posibles selecciones de r elementos de un total de n elementos\n",
    "\n",
    "<img src=\"https://raw.githubusercontent.com/mrivas/disenoExperimentos/master/h2.png\" alt=\"Drawing\" style=\"width: 500px;\" />"
   ]
  },
  {
   "cell_type": "markdown",
   "metadata": {
    "slideshow": {
     "slide_type": "slide"
    }
   },
   "source": [
    "### Ahora calculemos las probabilidades\n",
    "\n",
    "<img src=\"https://raw.githubusercontent.com/mrivas/disenoExperimentos/master/h3.png\" alt=\"Drawing\" style=\"width: 500px;\" />"
   ]
  },
  {
   "cell_type": "code",
   "execution_count": 2,
   "metadata": {
    "slideshow": {
     "slide_type": "fragment"
    }
   },
   "outputs": [],
   "source": [
    "# Cargar librerias\n",
    "import numpy as np\n",
    "from matplotlib import pyplot as plt\n",
    "import math\n",
    "from scipy import stats"
   ]
  },
  {
   "cell_type": "code",
   "execution_count": 4,
   "metadata": {
    "slideshow": {
     "slide_type": "fragment"
    }
   },
   "outputs": [
    {
     "name": "stdout",
     "output_type": "stream",
     "text": [
      "Número de combinaciones de 4 tazas\n",
      "70.0\n",
      "Número de combinaciones de 4 tazas en las cuales se ha adivinado 1 taza\n",
      "16.0\n"
     ]
    }
   ],
   "source": [
    "def comb(n,r):\n",
    "    f = math.factorial\n",
    "    return f(n) / f(r) / f(n-r)\n",
    "\n",
    "# Por ejemplo el número de combinaciones de 4 tazas generadas a partir de un total de 8 tazas es \n",
    "print(\"Número de combinaciones de 4 tazas\")\n",
    "print(comb(8,4))\n",
    "# El número de combinaciones de 4 tazas dentro de las cuales Muriel ha adivinado correctamente 1 taza\n",
    "N,K,n = 8,4,4\n",
    "k = 1\n",
    "print(\"Número de combinaciones de 4 tazas en las cuales se ha adivinado 1 taza\")\n",
    "print(comb(K,k)*comb((N-K),(n-k)))"
   ]
  },
  {
   "cell_type": "code",
   "execution_count": 5,
   "metadata": {
    "slideshow": {
     "slide_type": "slide"
    }
   },
   "outputs": [
    {
     "name": "stdout",
     "output_type": "stream",
     "text": [
      "0.22857142857142856\n"
     ]
    }
   ],
   "source": [
    "# Cuál es la probabilidad de que Muriel obtenga este resultado\n",
    "seleccionDemuriel=comb(K,k)*comb((N-K),(n-k))\n",
    "casosTotales = comb(8,4)\n",
    "probabilidad = seleccionDemuriel / casosTotales\n",
    "print(probabilidad)"
   ]
  },
  {
   "cell_type": "markdown",
   "metadata": {
    "slideshow": {
     "slide_type": "slide"
    }
   },
   "source": [
    "## Para que nos vamos a complicar: Librería de distribución hipergeométrica"
   ]
  },
  {
   "cell_type": "code",
   "execution_count": 107,
   "metadata": {
    "slideshow": {
     "slide_type": "fragment"
    }
   },
   "outputs": [
    {
     "name": "stdout",
     "output_type": "stream",
     "text": [
      "[0.01428571 0.22857143 0.51428571 0.22857143 0.01428571]\n"
     ]
    }
   ],
   "source": [
    "rv = stats.hypergeom(N, K, n)\n",
    "k = np.arange(0, n+1) # Valores de k desde 0 hasta 4\n",
    "pmf = stats.hypergeom(N, K, n).pmf(k) # Probability mass function\n",
    "print(pmf)"
   ]
  },
  {
   "cell_type": "code",
   "execution_count": 108,
   "metadata": {
    "slideshow": {
     "slide_type": "fragment"
    }
   },
   "outputs": [
    {
     "name": "stdout",
     "output_type": "stream",
     "text": [
      "0.014285714285714268\n"
     ]
    },
    {
     "data": {
      "image/png": "[encoded data removed]",
      "text/plain": [
       "<Figure size 432x288 with 1 Axes>"
      ]
     },
     "metadata": {
      "needs_background": "light"
     },
     "output_type": "display_data"
    }
   ],
   "source": [
    "plt.plot(k, pmf, 'o')\n",
    "plt.vlines(k, 0, pmf, lw=2)\n",
    "\n",
    "pValue= sum(pmf[4::]) # P-value: Probabilidad de seleccionar al azar 4 tazas\n",
    "print(pValue)"
   ]
  },
  {
   "cell_type": "code",
   "execution_count": 100,
   "metadata": {
    "slideshow": {
     "slide_type": "fragment"
    }
   },
   "outputs": [
    {
     "name": "stdout",
     "output_type": "stream",
     "text": [
      "0.24285714285714263\n"
     ]
    },
    {
     "data": {
      "image/png": "[encoded data removed]",
      "text/plain": [
       "<Figure size 432x288 with 1 Axes>"
      ]
     },
     "metadata": {
      "needs_background": "light"
     },
     "output_type": "display_data"
    }
   ],
   "source": [
    "plt.plot(k, pmf, 'o')\n",
    "plt.vlines(k, 0, pmf, lw=2)\n",
    "\n",
    "pValue= sum(pmf[3::]) # P-value: Probabilidad de seleccionar al azar 3 tazas\n",
    "print(pValue)"
   ]
  },
  {
   "cell_type": "markdown",
   "metadata": {
    "slideshow": {
     "slide_type": "slide"
    }
   },
   "source": [
    "## Ejercicio\n",
    "\n",
    "1. Cálcula el número de combinaciones de 4 tazas en las cuales Muriel ha avidinado correctamente 2 tazas\n",
    "2. Define una función llamda $Muriel(k)$ para hacer lo anterior pero en donde el número de tazas correctamente adviniadas ($k$) es uno de los argumentos de la función.\n",
    "3. Define una función llamada $Fisher(k)$ para cácular la probabilidad de seleccionar $k$ tazas al azar."
   ]
  },
  {
   "cell_type": "code",
   "execution_count": null,
   "metadata": {},
   "outputs": [],
   "source": []
  },
  {
   "cell_type": "markdown",
   "metadata": {
    "slideshow": {
     "slide_type": "slide"
    }
   },
   "source": [
    "# Ejemplo 2: Marcelo predice el futuro\n",
    "\n",
    "<img src=\"https://raw.githubusercontent.com/mrivas/disenoExperimentos/master/h4.png\" alt=\"Drawing\" style=\"width: 500px;\" />"
   ]
  },
  {
   "cell_type": "code",
   "execution_count": 139,
   "metadata": {
    "slideshow": {
     "slide_type": "slide"
    }
   },
   "outputs": [
    {
     "data": {
      "image/png": "[encoded data removed]",
      "text/plain": [
       "<Figure size 432x288 with 1 Axes>"
      ]
     },
     "metadata": {
      "needs_background": "light"
     },
     "output_type": "display_data"
    }
   ],
   "source": [
    "n = 1 # Lanzamiento de 1 moneda\n",
    "p = 0.5 # La moneda tiene un 50% de caer cara\n",
    "\n",
    "rv = stats.binom(n,p)\n",
    "k = np.arange(0, n+1) # Valores de k desde 0 hasta 1\n",
    "pmf = stats.binom(n,p).pmf(k) # Probability mass function\n",
    "\n",
    "plt.plot(k, pmf, 'o')\n",
    "plt.vlines(k, 0, pmf, lw=2)\n",
    "plt.show()"
   ]
  },
  {
   "cell_type": "code",
   "execution_count": 140,
   "metadata": {
    "slideshow": {
     "slide_type": "fragment"
    }
   },
   "outputs": [
    {
     "name": "stdout",
     "output_type": "stream",
     "text": [
      "0.5\n"
     ]
    }
   ],
   "source": [
    "pValue= sum(pmf[1::]) # P-value: Probabilidad de observar 1 moneda cara, dada que estas caen al azar\n",
    "print(pValue)"
   ]
  },
  {
   "cell_type": "code",
   "execution_count": 181,
   "metadata": {
    "slideshow": {
     "slide_type": "slide"
    }
   },
   "outputs": [
    {
     "data": {
      "image/png": "[encoded data removed]",
      "text/plain": [
       "<Figure size 432x288 with 1 Axes>"
      ]
     },
     "metadata": {
      "needs_background": "light"
     },
     "output_type": "display_data"
    },
    {
     "name": "stdout",
     "output_type": "stream",
     "text": [
      "0\n"
     ]
    }
   ],
   "source": [
    "n = 100 # Lanzamiento de 10 moneda\n",
    "p = 0.5 # La moneda tiene un 50% de caer cara\n",
    "\n",
    "rv = stats.binom(n,p)\n",
    "k = np.arange(0, n+1) # Valores de k desde 0 hasta n\n",
    "pmf = stats.binom(n,p).pmf(k) # Probability mass function\n",
    "\n",
    "plt.plot(k, pmf,'.')\n",
    "plt.vlines(k, 0, pmf, lw=1) #lw line width\n",
    "plt.show()\n",
    "\n",
    "pValue= sum(pmf[900::]) # P-value: Probabilidad de predecir al azar n monedas\n",
    "print(pValue)"
   ]
  },
  {
   "cell_type": "markdown",
   "metadata": {
    "slideshow": {
     "slide_type": "slide"
    }
   },
   "source": [
    "# Ejemplo 3: verifica que una vacuna funciona\n",
    "\n",
    "Supongamos que estamos en el año 2025, cuando eres CEO de una empresa biotecnológica. \n",
    "\n",
    "Quieres producir una vacuna pero no estás seguro si ésta es efectiva. \n",
    "\n",
    "Para dilucidar esto, diseñas un experimento en donde a un conjunto de voluntarios se les da un placebo y luego se les somete al agente infeccioso, el cual produce fiebre.\n",
    "\n",
    "Los resultados del grupo placebo muestran que la mayoria de los voluntarios aumentan su temperatura (grados Celsius), mostrando un rango de resultados que se distribuyen de acuerdo a una distribución normal con $\\mu=39$, y $\\sigma^2=1$\n",
    "\n",
    "Luego, a otro voluntario se lo inocula con la vacuna y lo somete al agente infeccioso. La temperatura de este voluntario es de a 37.1 grados Celcius.\n",
    "\n",
    "¿Es efectiva la vacuna?"
   ]
  },
  {
   "cell_type": "code",
   "execution_count": 6,
   "metadata": {
    "slideshow": {
     "slide_type": "slide"
    }
   },
   "outputs": [
    {
     "data": {
      "image/png": "[encoded data removed]",
      "text/plain": [
       "<Figure size 432x288 with 1 Axes>"
      ]
     },
     "metadata": {
      "needs_background": "light"
     },
     "output_type": "display_data"
    },
    {
     "name": "stdout",
     "output_type": "stream",
     "text": [
      "0.028716559816001873\n"
     ]
    }
   ],
   "source": [
    "u = 39 # Fiebre promedio de los infectados sin vacuna\n",
    "sd = np.sqrt(1) # Desviación estandar de lso resultados\n",
    "\n",
    "rv = stats.norm(u,sd)\n",
    "# Esta es la lista de valores del eje x\n",
    "k = np.linspace(rv.ppf(0.000001), rv.ppf(0.999999), 100) # Percent point function\n",
    "pdf = rv.pdf(k) # Probability density function\n",
    "\n",
    "# Este es el gráfico de probabilidaad\n",
    "plt.plot(k, pdf)\n",
    "plt.vlines(k, 0, pdf, lw=2)\n",
    "plt.vlines(37.1, 0, 0.3, color=\"red\",lw=2)\n",
    "plt.show()\n",
    "\n",
    "\n",
    "Pvalue=rv.cdf(37.1)\n",
    "print(Pvalue)"
   ]
  },
  {
   "cell_type": "code",
   "execution_count": null,
   "metadata": {
    "slideshow": {
     "slide_type": "slide"
    }
   },
   "outputs": [],
   "source": []
  },
  {
   "cell_type": "code",
   "execution_count": null,
   "metadata": {
    "slideshow": {
     "slide_type": "slide"
    }
   },
   "outputs": [],
   "source": []
  }
 ],
 "metadata": {
  "celltoolbar": "Slideshow",
  "kernelspec": {
   "display_name": "Python 3",
   "language": "python",
   "name": "python3"
  },
  "language_info": {
   "codemirror_mode": {
    "name": "ipython",
    "version": 3
   },
   "file_extension": ".py",
   "mimetype": "text/x-python",
   "name": "python",
   "nbconvert_exporter": "python",
   "pygments_lexer": "ipython3",
   "version": "3.8.10"
  }
 },
 "nbformat": 4,
 "nbformat_minor": 4
}
