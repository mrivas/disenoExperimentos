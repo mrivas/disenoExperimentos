{
 "cells": [
  {
   "cell_type": "markdown",
   "metadata": {},
   "source": [
    "Distribuciones de probabilidad\n",
    "================\n",
    "\n",
    "La lista de distribuciones de probabilidad es larga y variada ( [wikipedia](https://en.wikipedia.org/wiki/List_of_probability_distributions) tiene un buen resumen), veamos algunos ejemplos."
   ]
  },
  {
   "cell_type": "code",
   "execution_count": null,
   "metadata": {},
   "outputs": [],
   "source": [
    "# Cargar las librerias\n",
    "import numpy as np # en numpy están las librerias de las distr. de probabilidad\n",
    "from matplotlib import pyplot as plt # en pyplot está la librería para hacer histogramas"
   ]
  },
  {
   "cell_type": "code",
   "execution_count": null,
   "metadata": {},
   "outputs": [],
   "source": [
    "# Distribución normal con u=0 y s=10 \n",
    "#(s es la desviación estandar, es decir la raiz cuadrada de la varianza)\n",
    "x=np.random.normal(0,10,1000)\n",
    "plt.hist(x)"
   ]
  },
  {
   "cell_type": "code",
   "execution_count": null,
   "metadata": {},
   "outputs": [],
   "source": [
    "# Distribución de Poisson con valor promedio igual a 10 \n",
    "# (en esta distribución el promedio y varianza coinciden) \n",
    "x=np.random.poisson(10,1000)\n",
    "plt.hist(x)"
   ]
  },
  {
   "cell_type": "code",
   "execution_count": null,
   "metadata": {},
   "outputs": [],
   "source": [
    "# Distribución binomial (o de Bernoulli) con n=1 y p=0.7\n",
    "x=np.random.binomial(1,0.7,1000)\n",
    "plt.hist(x)"
   ]
  },
  {
   "cell_type": "code",
   "execution_count": null,
   "metadata": {},
   "outputs": [],
   "source": [
    "# Distribución beta con a=2 y b=5\n",
    "x=np.random.beta(2,5,1000)\n",
    "plt.hist(x)"
   ]
  },
  {
   "cell_type": "code",
   "execution_count": null,
   "metadata": {},
   "outputs": [],
   "source": [
    "# Distribución exponencial con lamnda=5\n",
    "x=np.random.exponential(5,1000)\n",
    "plt.hist(x)"
   ]
  },
  {
   "cell_type": "markdown",
   "metadata": {},
   "source": [
    "Ejercicio 1\n",
    "--------\n",
    "\n",
    "Elige otra distribución de probabilidad desde la lista de  [wikipedia](https://en.wikipedia.org/wiki/List_of_probability_distributions) y gráfica su resultado usando un histograma."
   ]
  },
  {
   "cell_type": "markdown",
   "metadata": {},
   "source": [
    "Promedio y varianza de una muestra\n",
    "========================\n",
    "\n",
    "Calculemos le promedio y la varianza para varias tamaños muestrales obtenidos usando una distribución normal."
   ]
  },
  {
   "cell_type": "code",
   "execution_count": null,
   "metadata": {},
   "outputs": [],
   "source": [
    "# Dada la siguiente muestra de 10 observaciones\n",
    "x=[  6.08250521,  20.05183055,  -3.45090479,  -9.60013668, \n",
    "   7.95254388,  -8.78996234,   3.88734825,  10.96392985,\n",
    "       -11.45156006,  11.62454436]\n",
    "\n",
    "# El promedio de la muestra es \n",
    "x_mean = np.mean(x)\n",
    "# La varianza de la muestra es\n",
    "x_var = np.var(x,ddof=1)\n",
    "\n",
    "# Veamos su histograma\n",
    "plt.hist(x)\n",
    "# Imprimir los resultados\n",
    "print(x_mean, x_var)"
   ]
  },
  {
   "cell_type": "code",
   "execution_count": null,
   "metadata": {},
   "outputs": [],
   "source": [
    "# Dada la siguiente muestra de 10 observaciones\n",
    "x=np.random.normal(10,2,10)\n",
    "\n",
    "# El promedio de la muestra es \n",
    "x_mean = np.mean(x)\n",
    "# La varianza de la muestra es\n",
    "x_var = np.var(x,ddof=1)\n",
    "\n",
    "# Veamos su histograma\n",
    "plt.hist(x)\n",
    "# Imprimir los resultados\n",
    "print(x_mean, x_var)"
   ]
  },
  {
   "cell_type": "code",
   "execution_count": null,
   "metadata": {},
   "outputs": [],
   "source": [
    "# Dada la siguiente muestra de 100 observaciones\n",
    "x=np.random.normal(10,2,100)\n",
    "\n",
    "# El promedio de la muestra es \n",
    "x_mean = np.mean(x)\n",
    "# La varianza de la muestra es\n",
    "x_var = np.var(x,ddof=1)\n",
    "\n",
    "# Veamos su histograma\n",
    "plt.hist(x)\n",
    "# Imprimir los resultados\n",
    "print(x_mean, x_var)"
   ]
  },
  {
   "cell_type": "code",
   "execution_count": null,
   "metadata": {},
   "outputs": [],
   "source": [
    "# Dada la siguiente muestra de 100 observaciones\n",
    "x=np.random.normal(10,2,1000)\n",
    "\n",
    "# El promedio de la muestra es \n",
    "x_mean = np.mean(x)\n",
    "# La varianza de la muestra es\n",
    "x_var = np.var(x,ddof=1)\n",
    "\n",
    "# Veamos su histograma\n",
    "plt.hist(x)\n",
    "# Imprimir los resultados\n",
    "print(x_mean, x_var)"
   ]
  },
  {
   "cell_type": "code",
   "execution_count": null,
   "metadata": {},
   "outputs": [],
   "source": [
    "# Dada la siguiente muestra de 100 observaciones\n",
    "x=np.random.normal(10,2,100000)\n",
    "\n",
    "# El promedio de la muestra es \n",
    "x_mean = np.mean(x)\n",
    "# La varianza de la muestra es\n",
    "x_var = np.var(x,ddof=1)\n",
    "\n",
    "# Veamos su histograma\n",
    "plt.hist(x)\n",
    "# Imprimir los resultados\n",
    "print(x_mean, x_var)"
   ]
  },
  {
   "cell_type": "markdown",
   "metadata": {},
   "source": [
    "Ejercicio 2\n",
    "-------\n",
    "\n",
    "Calcula el promedio y la varianza de una muestra de 100 observaciones obtenidas de las distribución por tí usada en el ejercicio 1."
   ]
  },
  {
   "cell_type": "markdown",
   "metadata": {},
   "source": [
    "Teorema del límite central\n",
    "=======================\n",
    "\n",
    "Tomemos 4 muestras, cada una con 100 observaciones, de la distribución exponencial y veamos si la distribución de estos promedios se ve como un distribución normal."
   ]
  },
  {
   "cell_type": "code",
   "execution_count": null,
   "metadata": {},
   "outputs": [],
   "source": [
    "# Cuatro muestras, cada una con 10 observaciones, obtenidas de la misma distribución exponencial\n",
    "x1=np.random.exponential(5,10)\n",
    "x2=np.random.exponential(5,10)\n",
    "x3=np.random.exponential(5,10)\n",
    "x4=np.random.exponential(5,10)\n",
    "\n",
    "# Cálcular los promedios\n",
    "x_means = [] # en esta lista almacenaremos los distintos promedios\n",
    "\n",
    "x1_mean=np.mean(x1)\n",
    "x_means.append(x1_mean) # agrega el primer elemento a la lista\n",
    "\n",
    "x2_mean=np.mean(x2)\n",
    "x_means.append(x2_mean)  # agrega el segundo elemento a la lista\n",
    "\n",
    "x3_mean=np.mean(x3)\n",
    "x_means.append(x3_mean)  # ya entendiste la idea\n",
    "\n",
    "x4_mean=np.mean(x4)\n",
    "x_means.append(x4_mean) # etc\n",
    "\n",
    "# Hacer el histograma de los promedios\n",
    "plt.hist( [x_means] )"
   ]
  },
  {
   "cell_type": "markdown",
   "metadata": {},
   "source": [
    "¿El histograma se parece a una distribución normal? En caso negativo, agregar 4 muestras más a `x_means`."
   ]
  },
  {
   "cell_type": "code",
   "execution_count": null,
   "metadata": {},
   "outputs": [],
   "source": []
  }
 ],
 "metadata": {
  "kernelspec": {
   "display_name": "Python 3",
   "language": "python",
   "name": "python3"
  },
  "language_info": {
   "codemirror_mode": {
    "name": "ipython",
    "version": 3
   },
   "file_extension": ".py",
   "mimetype": "text/x-python",
   "name": "python",
   "nbconvert_exporter": "python",
   "pygments_lexer": "ipython3",
   "version": "3.7.6"
  }
 },
 "nbformat": 4,
 "nbformat_minor": 4
}
