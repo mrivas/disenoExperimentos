{
 "cells": [
  {
   "cell_type": "markdown",
   "metadata": {},
   "source": [
    "Ejercicio 1\n",
    "===========\n",
    "\n",
    "Dados los datos de la máqunia que graba semiconductores a distintas potencias, determina si las diferencias entre los tratamientos son estadisticamente significativas. Usar una significancia estadistica del 0.05.\n",
    "\n",
    "Para esto escriba una función:\n",
    "1. Obtener los valores de MStreat, y MSe.\n",
    "2. Calcular los intervalos de confianza de y_bar."
   ]
  },
  {
   "cell_type": "code",
   "execution_count": 1,
   "metadata": {},
   "outputs": [],
   "source": [
    "import numpy as np\n",
    "from matplotlib import pyplot as plt\n",
    "from scipy import stats"
   ]
  },
  {
   "cell_type": "code",
   "execution_count": 2,
   "metadata": {},
   "outputs": [],
   "source": [
    "# DATOS (máquina que graba obleas de semiconductores )\n",
    "\n",
    "data=np.array([[160,575,542,530,539,570],\n",
    "               [180,565,593,590,579,610],\n",
    "               [200,600,651,610,637,629],\n",
    "               [220,725,700,715,685,710]])\n",
    "data=data[:,1:6]"
   ]
  },
  {
   "cell_type": "markdown",
   "metadata": {},
   "source": [
    "Ejercicio 2\n",
    "=========\n",
    "\n",
    "[Este artículo](https://www.nature.com/articles/4241013a) publicado en Nature presenta evidencia de que consumir chocolate negro (DC) produce mayor concentración de antioxidantes en la sange que chocolate negro mezclado con leche (DC+MK) o chocolate de leche (MC).\n",
    "\n",
    "<img src=\"https://raw.githubusercontent.com/mrivas/disenoExperimentos/master/ejemplo2.png\" alt=\"Drawing\" style=\"width: 700px;\" />\n",
    "\n",
    "Para estos  datos:\n",
    "\n",
    "1. Determina si las diferencias entre los tratamientos son estadisticamente significativas. Usar una significancia estadistica del 0.05.\n",
    "2. Determinar los intervalos de confianza de lso valores promedio de cada tratamiento.\n",
    "3. Analizar si las suposiciones de distribución normal y varianza constante son razonales.\n",
    "4. Determinar el tamaño muestral para que los intervalos de confianza del punto dos no sean mayores a +/- 0.1."
   ]
  },
  {
   "cell_type": "code",
   "execution_count": null,
   "metadata": {},
   "outputs": [],
   "source": []
  }
 ],
 "metadata": {
  "kernelspec": {
   "display_name": "Python 3",
   "language": "python",
   "name": "python3"
  },
  "language_info": {
   "codemirror_mode": {
    "name": "ipython",
    "version": 3
   },
   "file_extension": ".py",
   "mimetype": "text/x-python",
   "name": "python",
   "nbconvert_exporter": "python",
   "pygments_lexer": "ipython3",
   "version": "3.7.6"
  }
 },
 "nbformat": 4,
 "nbformat_minor": 4
}
