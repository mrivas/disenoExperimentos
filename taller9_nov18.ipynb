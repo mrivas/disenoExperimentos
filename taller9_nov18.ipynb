{
 "cells": [
  {
   "cell_type": "markdown",
   "metadata": {
    "slideshow": {
     "slide_type": "slide"
    }
   },
   "source": [
    "Ejercicio 1\n",
    "===========\n",
    "\n",
    "Dados los datos de la máqunia que graba semiconductores a distintas potencias, determina si las diferencias entre los tratamientos son estadisticamente significativas. Usar una significancia estadistica del 0.05.\n",
    "\n",
    "Para esto escriba una función:\n",
    "1. Obtener los valores de MStreat, y MSe.\n",
    "2. Calcular los intervalos de confianza de y_bar_i."
   ]
  },
  {
   "cell_type": "code",
   "execution_count": 1,
   "metadata": {
    "slideshow": {
     "slide_type": "slide"
    }
   },
   "outputs": [],
   "source": [
    "import numpy as np\n",
    "from matplotlib import pyplot as plt\n",
    "from scipy import stats"
   ]
  },
  {
   "cell_type": "code",
   "execution_count": 2,
   "metadata": {
    "slideshow": {
     "slide_type": "fragment"
    }
   },
   "outputs": [
    {
     "data": {
      "text/plain": [
       "array([[575, 542, 530, 539, 570],\n",
       "       [565, 593, 590, 579, 610],\n",
       "       [600, 651, 610, 637, 629],\n",
       "       [725, 700, 715, 685, 710]])"
      ]
     },
     "execution_count": 2,
     "metadata": {},
     "output_type": "execute_result"
    }
   ],
   "source": [
    "# DATOS (máquina que graba obleas de semiconductores )\n",
    "\n",
    "data=np.array([[575,542,530,539,570],\n",
    "               [565,593,590,579,610],\n",
    "               [600,651,610,637,629],\n",
    "               [725,700,715,685,710]])\n",
    "data"
   ]
  },
  {
   "cell_type": "code",
   "execution_count": 4,
   "metadata": {
    "slideshow": {
     "slide_type": "slide"
    }
   },
   "outputs": [],
   "source": [
    "def getMS(data):\n",
    "    a,n = data.shape\n",
    "    N = a*n\n",
    "    \n",
    "    y_bar = data.mean() #promedio global\n",
    "\n",
    "    \n",
    "    SStrat,SSe = 0,0\n",
    "    for i in range(a):\n",
    "        y_i = np.mean(data[i,:])\n",
    "        for j in range(n):\n",
    "            term1  = np.power( y_i - y_bar, 2)\n",
    "            SStrat += term1 # SStrat = SStrat + term\n",
    "            \n",
    "            term2  = np.power( data[i,j] - y_i, 2)\n",
    "            SSe    += term2\n",
    "    \n",
    "    MStrat = SStrat/(a-1)\n",
    "    MSe    = SSe/(N-a)   \n",
    "    \n",
    "    return(MStrat,MSe)"
   ]
  },
  {
   "cell_type": "code",
   "execution_count": 5,
   "metadata": {
    "slideshow": {
     "slide_type": "slide"
    }
   },
   "outputs": [
    {
     "name": "stdout",
     "output_type": "stream",
     "text": [
      "66.79707321945858 2.882865945963431e-09\n"
     ]
    }
   ],
   "source": [
    "# 1. Análisis ANOVA\n",
    "\n",
    "MStrat,MSe = getMS(data)\n",
    "F0 = MStrat/MSe\n",
    "\n",
    "a,n = data.shape\n",
    "N = a*n\n",
    "\n",
    "P_value = 1-stats.f.cdf(F0,a-1,N-a)\n",
    "\n",
    "print(F0,P_value)"
   ]
  },
  {
   "cell_type": "code",
   "execution_count": 5,
   "metadata": {},
   "outputs": [
    {
     "name": "stdout",
     "output_type": "stream",
     "text": [
      "533.8815284046374 568.5184715953627\n",
      "570.0815284046373 604.7184715953626\n",
      "608.0815284046373 642.7184715953626\n",
      "689.6815284046373 724.3184715953627\n"
     ]
    }
   ],
   "source": [
    "# 2. Intervalos de confianza\n",
    "def getCI(data):\n",
    "    a,n = data.shape\n",
    "    N = a*n\n",
    "    \n",
    "    y_i   = data.mean(axis=1) # promedio de cada tratamiento i\n",
    "      \n",
    "    MStrat,MSe=getMS(data)\n",
    "    \n",
    "    t95 = stats.t.ppf(0.975,N-a) # Asumindo alfa = 5%\n",
    "    # Imprime en pantalla los limites superior (UB) e inferior (LB)\n",
    "    # de los intervalos de confianza del promedio de cada tratamiento (y_i)\n",
    "    for i in range(a):\n",
    "        LB = y_i[i] - t95 * np.sqrt(MSe/n)\n",
    "        UB = y_i[i] + t95 * np.sqrt(MSe/n)\n",
    "        print(LB,UB)\n",
    "\n",
    "getCI(data)"
   ]
  },
  {
   "cell_type": "markdown",
   "metadata": {},
   "source": [
    "Ejercicio 2\n",
    "=========\n",
    "\n",
    "[Este artículo](https://www.nature.com/articles/4241013a) publicado en Nature presenta evidencia de que consumir chocolate negro (DC) produce mayor concentración de antioxidantes en la sange que chocolate negro mezclado con leche (DC+MK) o chocolate de leche (MC).\n",
    "\n",
    "<img src=\"https://raw.githubusercontent.com/mrivas/disenoExperimentos/master/ejemplo2.png\" alt=\"Drawing\" style=\"width: 700px;\" />\n",
    "\n",
    "Para estos  datos:\n",
    "\n",
    "1. Determina si las diferencias entre los tratamientos son estadisticamente significativas. Usar una significancia estadistica del 0.01.\n",
    "2. Determinar los intervalos de confianza de lso valores promedio de cada tratamiento.\n",
    "3. Analizar si las suposiciones de distribución normal y varianza constante son razonales.\n",
    "4. Determinar el tamaño muestral para que los intervalos de confianza del punto dos no sean mayores a +/- 0.1."
   ]
  },
  {
   "cell_type": "code",
   "execution_count": null,
   "metadata": {},
   "outputs": [],
   "source": []
  }
 ],
 "metadata": {
  "celltoolbar": "Slideshow",
  "kernelspec": {
   "display_name": "Python 3",
   "language": "python",
   "name": "python3"
  },
  "language_info": {
   "codemirror_mode": {
    "name": "ipython",
    "version": 3
   },
   "file_extension": ".py",
   "mimetype": "text/x-python",
   "name": "python",
   "nbconvert_exporter": "python",
   "pygments_lexer": "ipython3",
   "version": "3.8.10"
  }
 },
 "nbformat": 4,
 "nbformat_minor": 4
}
