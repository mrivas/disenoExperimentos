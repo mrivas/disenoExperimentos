{
 "cells": [
  {
   "cell_type": "markdown",
   "metadata": {},
   "source": [
    "Ejercicio 1\n",
    "=========\n",
    "\n",
    "Dados los siguientes datos:\n",
    "\n",
    "<img src=\"https://raw.githubusercontent.com/mrivas/disenoExperimentos/master/example1.png\" alt=\"Drawing\" style=\"width: 700px;\" />\n",
    "\n",
    "Escribir una función para calcular la suma de los cuadrados de $SS_A$,$SS_B$, $SS_{AB}$, y $SS_E$. En este caso el factor $A$ corresponde al tipo de material, y el factor $B$ a la temperatura."
   ]
  },
  {
   "cell_type": "code",
   "execution_count": 63,
   "metadata": {},
   "outputs": [
    {
     "data": {
      "text/plain": [
       "array([[174, 120],\n",
       "       [150, 139]])"
      ]
     },
     "execution_count": 63,
     "metadata": {},
     "output_type": "execute_result"
    }
   ],
   "source": [
    "# Esto es un ejemplo de como NO HACERLO\n",
    "\n",
    "import numpy as np\n",
    "\n",
    "dataRaw=np.array([[130,155,34,40,20,70],\n",
    "               [74,180,80,75,82,58],\n",
    "               [150,188,136,122,25,70],\n",
    "               [159,126,106,115,58,45],\n",
    "               [138,110,174,120,96,104],\n",
    "               [168,160,150,139,82,60]])  \n",
    "data={}\n",
    "rows,columns=dataRaw.shape\n",
    "n=4\n",
    "a,b =rows/np.sqrt(n),columns/np.sqrt(n)\n",
    "for i in range(int(a)):\n",
    "    for j in range(int(b)):\n",
    "        data[i,j] = dataRaw[i*2:(i*2+2),j*2:(j*2+2)]\n",
    "data[2,1]        "
   ]
  },
  {
   "cell_type": "code",
   "execution_count": 64,
   "metadata": {},
   "outputs": [
    {
     "data": {
      "text/plain": [
       "(10683.72222222222,\n",
       " 39118.72222222223,\n",
       " 9613.777777777774,\n",
       " 18230.75,\n",
       " 77646.97222222222)"
      ]
     },
     "execution_count": 64,
     "metadata": {},
     "output_type": "execute_result"
    }
   ],
   "source": [
    "# Esto es mucho mejor. Graciassss!!!\n",
    "\n",
    "import numpy as np\n",
    "data=np.array([ [[130,155,74,180] ,[ 34, 40, 80, 75],[20,70,82,58]],\n",
    "                [[150,188,159,126],[136,122,106,115],[25,70,58,45]],\n",
    "                [[138,110,168,160],[174,120,150,139],[96,104,82,60]] ])  \n",
    "def getSS(data):\n",
    "    a,b,n = data.shape\n",
    "    \n",
    "    y_bar    = data.mean()           # promedio general\n",
    "    y_bar_ij = data.mean(axis=2)     # promedio replicados en celda i,j\n",
    "    y_bar_i  = y_bar_ij.mean(axis=1) # promedio en fila i\n",
    "    y_bar_j  = y_bar_ij.mean(axis=0) # promedio en columna j\n",
    "    \n",
    "    SST,SSA,SSB,SSAB,SSE=0,0,0,0,0\n",
    "    for i in range(a):\n",
    "        for j in range(b):\n",
    "            for k in range(n):\n",
    "                SST  += np.power(data[i,j,k]-y_bar,2)\n",
    "                SSA  += np.power(y_bar_i[i]-y_bar,2)\n",
    "                SSB  += np.power(y_bar_j[j]-y_bar,2)\n",
    "                SSAB += np.power(y_bar_ij[i,j] - y_bar_i[i] - y_bar_j[j] + y_bar,2)\n",
    "                SSE  += np.power(data[i,j,k]-y_bar_ij[i,j],2)\n",
    "                \n",
    "    return(SSA,SSB,SSAB,SSE,SST)\n",
    "getSS(data)"
   ]
  },
  {
   "cell_type": "markdown",
   "metadata": {},
   "source": [
    "Ejercicio 2\n",
    "========\n",
    "\n",
    "Escribir una función para calcular:\n",
    "1. $MS_A$,$MS_B$, $MS_{AB}$, y $MS_E$,\n",
    "2. los $F_0$ para $MS_A$,$MS_B$ y $MS_{AB}$, y\n",
    "3. la significancia estadistica de que $MS_A$, $MS_B$, y $MS_{AB}$ son diferentes de $MS_E$."
   ]
  },
  {
   "cell_type": "code",
   "execution_count": null,
   "metadata": {},
   "outputs": [],
   "source": []
  },
  {
   "cell_type": "code",
   "execution_count": null,
   "metadata": {},
   "outputs": [],
   "source": []
  }
 ],
 "metadata": {
  "kernelspec": {
   "display_name": "Python 3",
   "language": "python",
   "name": "python3"
  },
  "language_info": {
   "codemirror_mode": {
    "name": "ipython",
    "version": 3
   },
   "file_extension": ".py",
   "mimetype": "text/x-python",
   "name": "python",
   "nbconvert_exporter": "python",
   "pygments_lexer": "ipython3",
   "version": "3.7.6"
  }
 },
 "nbformat": 4,
 "nbformat_minor": 4
}
